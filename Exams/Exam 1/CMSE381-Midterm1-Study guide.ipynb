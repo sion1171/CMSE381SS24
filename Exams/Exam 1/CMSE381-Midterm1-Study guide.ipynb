{
 "cells": [
  {
   "cell_type": "markdown",
   "id": "5292139b",
   "metadata": {},
   "source": [
    "<font color='red'>\n",
    "Our exam is open-book, so please expect it to be slighly more challenging than the old one provided in the same folder as this file.\n",
    "</font>\n",
    "\n",
    "## Topics covered in Midterm 1\n",
    "\n",
    " - prediction vs inference\n",
    " - regression vs classification\n",
    " - overfitting\n",
    " - error decomposition \n",
    "     - reducible vs irreducible error\n",
    "     - bias variance tradeoff\n",
    " - measuring the error \n",
    "    - MSE, RSS, $R^2$\n",
    "    \n",
    " - Linear regression\n",
    "      - RSS\n",
    "      - closed form solution for simple linear regression\n",
    "      - hypothesis test\n",
    "      - confidence interval\n",
    "      - dummy variables for qualitative predictors\n",
    "      - interaction terms ($p\\geq 2$) \n",
    " - Logistic regression\n",
    "     - odds\n",
    "     - logistic function\n",
    "     - maximum likelihood fitting for $\\beta_0$ and $\\beta_1$\n",
    "     - confusion matrix\n",
    "     - Multinomial Logistic Regression\n",
    " - LDA (p=1)\n",
    "     - Bayes theorem\n",
    "     - calculating the Bayes decision boundary\n",
    "     - QDA\n",
    "     - ROC, AUC\n",
    " - CV\n",
    "     - LOOCV\n",
    "     - Leverage statistic\n",
    "     - k-fold CV\n",
    " \n",
    "To be a bit more specific, you're expected to know how to \n",
    "  - manually apply the machine learning methods (kNN, LDA, QDA) to a given training dataset. \n",
    "  - manually set up the objective function for linear and logistic regression\n",
    "  - manually compute predictions given a trained model from linear and logistic regression \n",
    "  - use python to apply all these methods to a given dataset and interpret the results\n",
    "  \n",
    "\n",
    "\n",
    "\n"
   ]
  },
  {
   "cell_type": "code",
   "execution_count": null,
   "id": "50b84cc8",
   "metadata": {},
   "outputs": [],
   "source": []
  }
 ],
 "metadata": {
  "kernelspec": {
   "display_name": "Python 3",
   "language": "python",
   "name": "python3"
  },
  "language_info": {
   "codemirror_mode": {
    "name": "ipython",
    "version": 3
   },
   "file_extension": ".py",
   "mimetype": "text/x-python",
   "name": "python",
   "nbconvert_exporter": "python",
   "pygments_lexer": "ipython3",
   "version": "3.8.8"
  }
 },
 "nbformat": 4,
 "nbformat_minor": 5
}
