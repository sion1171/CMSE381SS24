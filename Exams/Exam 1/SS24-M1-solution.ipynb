{
 "cells": [
  {
   "cell_type": "markdown",
   "id": "dc8ab535",
   "metadata": {},
   "source": [
    "# CMSE-381 Midterm exam 1\n",
    "\n",
    "\n",
    "I will adhere to the Spartan Code of Honor in completing this assignment.\n",
    "Signed: ____________\n",
    "1. Do not start until you are directed to do so.\n",
    "2. You will have class time (2:40-4:00pm) to complete the exam.\n",
    "3. This exam is open book, but the use of generative AI (such as ChatGPT) is not allowed.\n",
    "4. You may insert handwritten answer into this jupyter notebook as you did for the homework. But in the end, you can upload two pdf files to crowdmark, one is this notebook converted to pdf, the other (optional) is a file contains photos of you handwritten solutions on the printed version of this exam.\n",
    "5. Throughout the test, show your work so that your reasoning is clear. Otherwise no credit will be given. Partial credit will be given where warranted.\n",
    "6. Do not spend too much time on any one problem. Read them all through first and attack them in the order that allows you to make the most progress. \n",
    "\n",
    "Good luck!\n"
   ]
  },
  {
   "cell_type": "markdown",
   "id": "42611933",
   "metadata": {},
   "source": [
    "# Grading Rubric \n",
    "\n",
    "Quesiton 1\n",
    "(1)-(6) each wrong selection - 1pt\n",
    "\n",
    "Question 2\n",
    " - (a)  \n",
    "    - missing one of the two input variables -2pts\n",
    "    - missing two -4pts\n",
    "    - missing all -5pts\n",
    "    \n",
    "- (b)\n",
    "     - 2pts for correctly writing the non-categorical variables in the equation\n",
    "    - 2pts for using dummy variables for the categorical variable\n",
    "    - 1pt for correctly explaining what values of dummy variable corresponds to which category -1pt\n",
    "   \n",
    "- (c) \n",
    "   - 3pts for correctly answering F-statistics \n",
    "   - 2pts for the correct values of p and n, each (1pt)\n",
    "\n",
    "Question 3\n",
    "- (a) \n",
    "    - correct label for A or B, 3pts\n",
    "    - correct label for both 5pts\n",
    "- (b) there may be different ways of writing this definition, as long as it makes sense, we can give points\n",
    "- (c) for some points in the drawing, it is hard to identify which four neighbours are closest. So, as long as the students'\n",
    "answer is consistent with the neighbours they circled out, we can give full credit \n",
    "   - 3pts for correctly identifying one point on the boundary (two neighbours are in one class and the other two are in the other)\n",
    "   - 2pts for correctly identifying the second point on the boundary\n",
    "   - 3pts for partical credit if the final answer is wrong but explanation are provided and make some sense\n",
    "Question 4\n",
    "- (a) \n",
    "    - 2pts for correctly identifying the number of coefficients in the equation\n",
    "    - 2pts for correctly writing the logistic function\n",
    "    - 1pt for everything else being correct\n",
    "- (b) \n",
    "  - 3pts for correctly using the likelihood function\n",
    "   - 2pts for correctly plugging the values from the table \n",
    "- (c) \n",
    "    - 2pts for correctly adding the dummy variables\n",
    "    - 2pts for correctly defining X and y\n",
    "    - 2pts for correctly calling the logistic regression function\n",
    "- (d) 1pt of partical credit can be given if the final answer is wrong due to small error in the code\n",
    " \n",
    "Question 5\n",
    "- (a) \n",
    "   - 3pts for correctly writing the bayes theorem\n",
    "    - 0.5 point for correctly identifying one name of the terms\n",
    "- (b) can give full credits if the answer matches any of the three answers provided, or any other answer that makes sense\n",
    "- (c) \n",
    "   - 2 pts for correctly identifying the valus of the priors\n",
    "   -  2 points for correctly identifying the mean and variance\n",
    "   - 3 points for the formula (2pts) and the correct values(1pt) of all delta_k\n",
    "   -  1 point for the final prediction/ranking\n",
    "\n",
    "Question 6\n",
    "- (a) the correct answer would be test MSE, true predicted error, or any error than can only be computed from the test data\n",
    "   as CV methods are used to approxiate these quantities when test data are not available\n",
    "    - 2points for answer containing ``error/MSE``\n",
    "    - 3points for answer containing ``testing``\n",
    "- (b) \n",
    "    - 5 pts as long as answer containing less bias (or sentence with equivalent meanings)\n",
    "    - 5 pts as long as answer containing faster computation \n",
    "    - since the question asks ``an advantage `` any other valid advantages can be accepted\n",
    "    \n",
    " - (c) same as (b)"
   ]
  },
  {
   "cell_type": "markdown",
   "id": "6ca7415a",
   "metadata": {},
   "source": [
    "<font color='red'>Question 1. (16 points)</font> Choose all that apply.\n",
    "\n",
    "(1) 2pts. Linear regression and logistic regresssion are both ____ problems\n",
    "\n",
    "   - (a) **regression** \n",
    "   - (b) **classification** \n",
    "   - (c) **prediction** \n",
    "   - (d) **supervised learning**\n"
   ]
  },
  {
   "cell_type": "markdown",
   "id": "74f3111c",
   "metadata": {},
   "source": [
    "<font color='blue'>Your answer:</font> (c),(d) \n"
   ]
  },
  {
   "cell_type": "markdown",
   "id": "f9b8c25b",
   "metadata": {},
   "source": [
    "(2) 2pts. The plot of training and test MSE can tell us \n",
    "\n",
    " - (a) **where overfitting occurs**\n",
    " - (b) **what is the best choice of model complexity one should use for fitting**\n",
    " - (c) **which predictor(s) to use in linear regression**"
   ]
  },
  {
   "cell_type": "markdown",
   "id": "9d00c88e",
   "metadata": {},
   "source": [
    "<font color='blue'>Your answer:</font>  (a) (b)\n"
   ]
  },
  {
   "cell_type": "markdown",
   "id": "74a22e65",
   "metadata": {},
   "source": [
    "(3)2pts. Which of the following can be smaller than the irreducible error?\n",
    "\n",
    "- (a) **Training MSE**\n",
    "- (b) **Testing MSE**\n",
    "- (c) **Bias**\n",
    "- (d) **Variance**"
   ]
  },
  {
   "cell_type": "markdown",
   "id": "979d1dd0",
   "metadata": {},
   "source": [
    "<font color='blue'>Your answer:</font>  (a) (c) (d)\n"
   ]
  },
  {
   "cell_type": "markdown",
   "id": "2dc3feec",
   "metadata": {},
   "source": [
    "(4) 2pts. Which of the following would represent a categorical variable?\n",
    "- (a) **stock price**\n",
    "- (b) **sales of a car**\n",
    "- (c) **the outcome of flipping a coin**\n",
    "- (d) **country of origin**\n",
    "- (e) **blood type (A, B, AB or O)**\n"
   ]
  },
  {
   "cell_type": "markdown",
   "id": "039c333e",
   "metadata": {},
   "source": [
    "<font color='blue'>Your answer:</font> (c) (d) (e)\n"
   ]
  },
  {
   "cell_type": "markdown",
   "id": "daa244de",
   "metadata": {},
   "source": [
    "(5) 2pts. Which of the following is Bayes classifier?\n",
    "- (a) **linear regression**\n",
    "- (b) **logistic regression**\n",
    "- (c) **kNN**\n",
    "- (d) **LDA**"
   ]
  },
  {
   "cell_type": "markdown",
   "id": "3d92d822",
   "metadata": {},
   "source": [
    "<font color='blue'>Your answer:</font>  (b) (c) (d)\n"
   ]
  },
  {
   "cell_type": "markdown",
   "id": "5e328e67",
   "metadata": {},
   "source": [
    "(6) 2pts. The following are different measures of goodness of fit, for which of these does a larger value mean a better fit?\n",
    "   - (a) **training MSE**\n",
    "   - (b) **RSS**\n",
    "   - (c) **$R^2$**\n",
    "   - (d) **TSS**\n",
    "\n"
   ]
  },
  {
   "cell_type": "markdown",
   "id": "6bdc14cb",
   "metadata": {},
   "source": [
    "<font color='blue'>Your answer:</font>  c\n"
   ]
  },
  {
   "cell_type": "markdown",
   "id": "db73c15b",
   "metadata": {},
   "source": [
    "(7) 2pts. What equation would you use to evaluate the result of a classification model?\n"
   ]
  },
  {
   "cell_type": "markdown",
   "id": "bf0f676f",
   "metadata": {},
   "source": [
    "<font color='blue'>Your answer:</font>  $\\frac{1}{n} \\sum_{i=1}^n 1_{\\{y_i \\neq \\hat{y}_i\\}}$\n"
   ]
  },
  {
   "cell_type": "markdown",
   "id": "e40b4db3",
   "metadata": {},
   "source": [
    "(8) 2pts. What is the equation for calculating the CV score of the leave one out cross validation (LOOCV) on a data set for a classification model."
   ]
  },
  {
   "cell_type": "markdown",
   "id": "f77038ca",
   "metadata": {},
   "source": [
    "<font color='blue'>Your answer:</font> $\\frac{1}{n} \\sum_i MSE_i$, where $MSE_i = (y_i-\\hat{y}_i)^2$ is the test MSE on sample i of the model trained on the data set with the ith sample removed\n"
   ]
  },
  {
   "cell_type": "markdown",
   "id": "a3a0cdac",
   "metadata": {},
   "source": [
    "<font color='red'>Question 2. (15 points)</font> We collect a set of data on the top 500 firms in the US. For each\n",
    "firm we record profit, the number of employees, industry(Transportation/Financials/Real Estate) and the CEO\n",
    "salary. We are interested in using linear regression for predicting the CEO salary based on the other \n",
    "three variables\n",
    "\n",
    " - (a) 5pts. List all input variables\n",
    " "
   ]
  },
  {
   "cell_type": "markdown",
   "id": "541c303c",
   "metadata": {},
   "source": [
    "<font color='blue'>Your answer:</font> profit, number of employees, industry (categorical)\n"
   ]
  },
  {
   "cell_type": "markdown",
   "id": "aafb0f7c",
   "metadata": {},
   "source": [
    "- (b) 5pts. What is the equation of the linear model you're going to fit? (Be sure to use dummy variables to encode categorical variabls if any)"
   ]
  },
  {
   "cell_type": "markdown",
   "id": "fd1faeb2",
   "metadata": {},
   "source": [
    "<font color='blue'>Your answer:</font> $y =\\beta_0 + \\beta_1 x_{profit}+  \\beta_2 x_{employees}+\\beta_3 x_{31} + \\beta_4 x_{32}$, a value $(1,0)$ for $(x_{31},x_{32})$ represents Transportation,  $(0,1)$ represents Financials, and $(0,0)$ represents Real Estate.\n"
   ]
  },
  {
   "cell_type": "markdown",
   "id": "f80c3cda",
   "metadata": {},
   "source": [
    "- (c) 5pts. What is the statistic you would use to test the Null Hypothesis \n",
    "\n",
    "$$H_0: \\textrm{all coefficients are equal to 0}$$\n",
    "  \n",
    "  What are the values of p and n in this case?  "
   ]
  },
  {
   "cell_type": "markdown",
   "id": "656fb023",
   "metadata": {},
   "source": [
    "<font color='blue'>Your answer:</font> F-statistics, p = 4, n=500\n"
   ]
  },
  {
   "cell_type": "markdown",
   "id": "28fc1638",
   "metadata": {},
   "source": [
    "<font color='red'>Question 3. (18 points)</font> The figure below provides a training data set where each training sample is marked with a circle or a triangle. \n",
    "\n",
    " - (a) 5pts. If we use k-nearest neighbors classification with k = 3, what is the prediction (circle or triangle) for the points A and B?  \n",
    "\n"
   ]
  },
  {
   "cell_type": "markdown",
   "id": "ef4012b1",
   "metadata": {},
   "source": [
    "<img src=\"knn.png\" alt=\"Drawing\" style=\"width: 200px;\"/>\n"
   ]
  },
  {
   "cell_type": "markdown",
   "id": "52dda85d",
   "metadata": {},
   "source": [
    "<font color='blue'>Your answer:</font> A: triangle B: circle"
   ]
  },
  {
   "cell_type": "markdown",
   "id": "cae5aa49",
   "metadata": {},
   "source": [
    "- (b) 5pts. What is the definition of Bayes decision boundary?"
   ]
  },
  {
   "cell_type": "markdown",
   "id": "ecf3cf5d",
   "metadata": {},
   "source": [
    "<font color='blue'>Your answer:</font> locations where the conditional probability equals, or locations where the bayes classifier switch prediction"
   ]
  },
  {
   "cell_type": "markdown",
   "id": "06f24155",
   "metadata": {},
   "source": [
    "- (c) 8pts. Identify two training samples that lie on  the decision boundary of kNN when taking $k=4$. (You can either circle the two samples/points in the printed version of this exam or type in the location of the points here, an  example of valid answer would be: the 1rd point in the 1st row of red, is on the decision boundary)"
   ]
  },
  {
   "cell_type": "markdown",
   "id": "d7ccd153",
   "metadata": {},
   "source": [
    "<font color='blue'>Your answer:</font> third point in the second row of red, 3rd red point in the 4th row containing red"
   ]
  },
  {
   "cell_type": "markdown",
   "id": "5043a8b1",
   "metadata": {},
   "source": [
    "<font color='red'>Question 4. (18 points)</font> The table below is from the MOVIES dataset, which contains both the movie’s genre and opening week revenue (OPR) in millions. Our goal is to classify each movie as ``profitable`` (y=1) and ``nonprofitable`` (y=0), based on the genres (Action or non-action) and the opening weekend revenue (the amount of money that the film brought into the box-office on it's first weekend in theatres). \n",
    "\n",
    "<img src=\"logistic.png\" alt=\"Drawing\" style=\"width: 200px;\"/>\n"
   ]
  },
  {
   "cell_type": "markdown",
   "id": "6fd37804",
   "metadata": {},
   "source": [
    " - a. 5pts) We want to build a logistic regression model to predict the profitability of a movie from OPR and genre. What formula should be used to represent the conditional probability?"
   ]
  },
  {
   "cell_type": "markdown",
   "id": "ca044557",
   "metadata": {},
   "source": [
    "<font color='blue'>Your answer:</font>  $ p(x) = \\frac{e^{\\beta_0+\\beta_1x_1+\\beta_2x_2}}{1+e^{\\beta_0+\\beta_1x_1+\\beta_2x_2}}$\n"
   ]
  },
  {
   "cell_type": "markdown",
   "id": "8f8cd4e6",
   "metadata": {},
   "source": [
    " - b. 5pts) What objective function would you like to maximize in order to find the betas (please plug in all the numbers given in the table)?"
   ]
  },
  {
   "cell_type": "markdown",
   "id": "a58b9292",
   "metadata": {},
   "source": [
    "<font color='blue'>Your answer:</font> \n",
    "$ \\frac{e^{\\beta_0+100\\beta_1+\\beta_2}}{1+e^{\\beta_0+400\\beta_1+\\beta_2}}\\cdot\\frac{e^{\\beta_0+400\\beta_1+\\beta_2}}{1+e^{\\beta_0+400\\beta_1+\\beta_2}} \\cdot\\frac{1}{1+e^{\\beta_0+200\\beta_1}}$\n"
   ]
  },
  {
   "cell_type": "markdown",
   "id": "e7adbdf0",
   "metadata": {},
   "source": [
    " - c. 6pts) Use `sklearn.LogisticRegression` to find coefficients $\\hat{\\beta}_0, \\hat{\\beta}_1, \\hat{\\beta}_2$ of your model."
   ]
  },
  {
   "cell_type": "code",
   "execution_count": 1,
   "id": "a5af7f93",
   "metadata": {
    "scrolled": true
   },
   "outputs": [
    {
     "data": {
      "text/html": [
       "<div>\n",
       "<style scoped>\n",
       "    .dataframe tbody tr th:only-of-type {\n",
       "        vertical-align: middle;\n",
       "    }\n",
       "\n",
       "    .dataframe tbody tr th {\n",
       "        vertical-align: top;\n",
       "    }\n",
       "\n",
       "    .dataframe thead th {\n",
       "        text-align: right;\n",
       "    }\n",
       "</style>\n",
       "<table border=\"1\" class=\"dataframe\">\n",
       "  <thead>\n",
       "    <tr style=\"text-align: right;\">\n",
       "      <th></th>\n",
       "      <th>Movie</th>\n",
       "      <th>OPR</th>\n",
       "      <th>genre</th>\n",
       "      <th>profitability</th>\n",
       "    </tr>\n",
       "  </thead>\n",
       "  <tbody>\n",
       "    <tr>\n",
       "      <th>0</th>\n",
       "      <td>Movie-1</td>\n",
       "      <td>100</td>\n",
       "      <td>action</td>\n",
       "      <td>1</td>\n",
       "    </tr>\n",
       "    <tr>\n",
       "      <th>1</th>\n",
       "      <td>Movie-2</td>\n",
       "      <td>200</td>\n",
       "      <td>non-action</td>\n",
       "      <td>0</td>\n",
       "    </tr>\n",
       "    <tr>\n",
       "      <th>2</th>\n",
       "      <td>Movie-3</td>\n",
       "      <td>400</td>\n",
       "      <td>action</td>\n",
       "      <td>1</td>\n",
       "    </tr>\n",
       "  </tbody>\n",
       "</table>\n",
       "</div>"
      ],
      "text/plain": [
       "     Movie  OPR       genre  profitability\n",
       "0  Movie-1  100      action              1\n",
       "1  Movie-2  200  non-action              0\n",
       "2  Movie-3  400      action              1"
      ]
     },
     "execution_count": 1,
     "metadata": {},
     "output_type": "execute_result"
    }
   ],
   "source": [
    "# This code has defined the table above as a panda's dataframe\n",
    "import pandas as pd\n",
    "from sklearn.linear_model import LogisticRegression \n",
    "data = [['Movie-1', 100,'action',1], ['Movie-2', 200,'non-action',0], ['Movie-3', 400,'action',1]]\n",
    "df = pd.DataFrame(data, columns=['Movie', 'OPR','genre','profitability'])\n",
    "df"
   ]
  },
  {
   "cell_type": "code",
   "execution_count": 8,
   "id": "70a246cd",
   "metadata": {},
   "outputs": [
    {
     "data": {
      "text/html": [
       "<div>\n",
       "<style scoped>\n",
       "    .dataframe tbody tr th:only-of-type {\n",
       "        vertical-align: middle;\n",
       "    }\n",
       "\n",
       "    .dataframe tbody tr th {\n",
       "        vertical-align: top;\n",
       "    }\n",
       "\n",
       "    .dataframe thead th {\n",
       "        text-align: right;\n",
       "    }\n",
       "</style>\n",
       "<table border=\"1\" class=\"dataframe\">\n",
       "  <thead>\n",
       "    <tr style=\"text-align: right;\">\n",
       "      <th></th>\n",
       "      <th>Movie</th>\n",
       "      <th>OPR</th>\n",
       "      <th>genre</th>\n",
       "      <th>profitability</th>\n",
       "    </tr>\n",
       "  </thead>\n",
       "  <tbody>\n",
       "    <tr>\n",
       "      <th>0</th>\n",
       "      <td>Movie-1</td>\n",
       "      <td>100</td>\n",
       "      <td>1</td>\n",
       "      <td>1</td>\n",
       "    </tr>\n",
       "    <tr>\n",
       "      <th>1</th>\n",
       "      <td>Movie-2</td>\n",
       "      <td>200</td>\n",
       "      <td>0</td>\n",
       "      <td>0</td>\n",
       "    </tr>\n",
       "    <tr>\n",
       "      <th>2</th>\n",
       "      <td>Movie-3</td>\n",
       "      <td>400</td>\n",
       "      <td>1</td>\n",
       "      <td>1</td>\n",
       "    </tr>\n",
       "  </tbody>\n",
       "</table>\n",
       "</div>"
      ],
      "text/plain": [
       "     Movie  OPR  genre  profitability\n",
       "0  Movie-1  100      1              1\n",
       "1  Movie-2  200      0              0\n",
       "2  Movie-3  400      1              1"
      ]
     },
     "execution_count": 8,
     "metadata": {},
     "output_type": "execute_result"
    }
   ],
   "source": [
    "df['genre'] = df['genre'].map({'non-action':0,\"action\":1})\n",
    "df"
   ]
  },
  {
   "cell_type": "code",
   "execution_count": 4,
   "id": "2d4b7485",
   "metadata": {},
   "outputs": [
    {
     "name": "stdout",
     "output_type": "stream",
     "text": [
      "[-0.37829138] [[0.00318907 0.56451971]]\n"
     ]
    }
   ],
   "source": [
    "import pandas as pd\n",
    "from sklearn.linear_model import LogisticRegression \n",
    "data = [['Movie-1', 100,1,1], ['Movie-2', 200,0,0], ['Movie-3', 400,1,1]]\n",
    "df = pd.DataFrame(data, columns=['Movie', 'OPR','genre','profitability'])\n",
    "X = df[['OPR','genre']]\n",
    "Y = df.profitability\n",
    "clf = LogisticRegression(random_state=0)\n",
    "clf.fit(X,Y)\n",
    "print(clf.intercept_, clf.coef_)"
   ]
  },
  {
   "cell_type": "markdown",
   "id": "487783a0",
   "metadata": {},
   "source": [
    " - (d)(2pts) Suppose a newly released action movie has an OPR of 300, use the trained model above to predict its ``odd`` of being profitable."
   ]
  },
  {
   "cell_type": "markdown",
   "id": "75aab490",
   "metadata": {},
   "source": [
    "<font color='blue'>Your answer:</font>  "
   ]
  },
  {
   "cell_type": "code",
   "execution_count": 7,
   "id": "5f73716e",
   "metadata": {},
   "outputs": [
    {
     "name": "stdout",
     "output_type": "stream",
     "text": [
      "[3.13600179]\n"
     ]
    }
   ],
   "source": [
    "import numpy as np\n",
    "odd = np.exp(clf.intercept_+300*clf.coef_[0][0]+ clf.coef_[0][1])\n",
    "print(odd)"
   ]
  },
  {
   "cell_type": "markdown",
   "id": "9811bc97",
   "metadata": {},
   "source": [
    "<font color='red'>Question 5. (18 points)</font>  \n",
    "\n",
    " - a. 5pts) State the Bayes' theorem, and specify the name of each term within it. \n",
    " \n"
   ]
  },
  {
   "cell_type": "markdown",
   "id": "c52cb54a",
   "metadata": {},
   "source": [
    "<font color='blue'>Your answer:</font> $$\n",
    "P(A|B) = \\frac{P(B|A) \\times P(A)}{P(B)}$$\n",
    "\n",
    "where\n",
    "   - $P(A|B)$ is the posterior probability.\n",
    "   - $P(B|A)$ is the likelihood\n",
    "   - $P(A)$ is the prior probability.\n",
    "   - $P(B)$ is the marginal probability\n"
   ]
  },
  {
   "cell_type": "markdown",
   "id": "96b600f9",
   "metadata": {},
   "source": [
    " - b. 5pts) What is the main differences between LDA and QDA?\n",
    " \n"
   ]
  },
  {
   "cell_type": "markdown",
   "id": "ffd8391e",
   "metadata": {},
   "source": []
  },
  {
   "cell_type": "markdown",
   "id": "34b5490a",
   "metadata": {},
   "source": [
    "<font color='blue'>Your answer:</font> \n",
    "Assumption about Covariance Matrices: LDA assumes common variance, where QDA assumes each class to have its own variance\n",
    "\n",
    "alternative answer: LDA is linear in x, QDA is quadratic in x\n",
    "\n",
    "alternative answer: LDA has linear classification boundary, QDA has quadratic boundary"
   ]
  },
  {
   "cell_type": "markdown",
   "id": "a16265b4",
   "metadata": {},
   "source": [
    " - c. 8pts) Suppose we want to predict academic success of MSU students. More specifically, we want to predict the average college GPA (A,B or below B) of a MSU student based on his/her SAT score. On average, 50% of MSU graduates has an average GPA of A, 40% has a B and 10% has a C or below. Based on some investigation, we found for those obtaining A, the average SAT score is 1250, for those  obtaining B, the average SAT score is 1050,  for those  obtaining GPA less than B, the average SAT score is 800. The standard deviation of the SAT score among all MSU students is 200. Based on this information, help a student whose SAT score = 1100 to predict his/her future average GPA."
   ]
  },
  {
   "cell_type": "markdown",
   "id": "cb936a8b",
   "metadata": {},
   "source": [
    "<font color='blue'>Your answer:</font> $\\pi_1 = 0.5,\\pi_2 = 0.4, \\pi_3= 0.1$. $\\mu_1= 1250,\\mu_2= 1050, \\mu_3= 800$, $\\sigma^2 = 200^2 = 40000$, $x=1100$\n",
    "\n",
    "$$\\delta_k =x\\frac{\\mu_k}{\\sigma^2} -\\frac{\\mu_k^2}{2\\sigma^2} +\\log \\pi_k$$"
   ]
  },
  {
   "cell_type": "code",
   "execution_count": null,
   "id": "bc133473",
   "metadata": {},
   "outputs": [],
   "source": [
    "x = 1000\n",
    "p1 = 0.5\n",
    "p2 = 0.4\n",
    "p3 = 0.1\n",
    "mu1 = 1250\n",
    "mu2 = 1050\n",
    "mu3 = 800\n",
    "sig2 = 40000\n",
    "delta1 = x*mu1/sig2-mu1**2/sig2/2+np.log(p1)\n",
    "delta2 = x*mu2/sig2-mu2**2/sig2/2+np.log(p2)\n",
    "delta3 = x*mu3/sig2-mu3**2/sig2/2+np.log(p3)\n",
    "print(delta1,delta2,delta3)"
   ]
  },
  {
   "cell_type": "markdown",
   "id": "34981fa1",
   "metadata": {},
   "source": [
    "prediction is B"
   ]
  },
  {
   "cell_type": "markdown",
   "id": "9094c819",
   "metadata": {},
   "source": [
    "<font color='red'>Question 6. (15 points)</font> \n",
    "- a. 5 points) What value is LOOCV and k-fold CV approximating?\n",
    "\n",
    "\n"
   ]
  },
  {
   "cell_type": "markdown",
   "id": "b4b83fb1",
   "metadata": {},
   "source": [
    "<font color='blue'>Your answer:</font> expected prediction error\n"
   ]
  },
  {
   "cell_type": "markdown",
   "id": "81c84cc9",
   "metadata": {},
   "source": [
    "- b. 5 points) What is an advantage of LOOCV over the Validation Set method?"
   ]
  },
  {
   "cell_type": "markdown",
   "id": "b31c1921",
   "metadata": {},
   "source": [
    "<font color='blue'>Your answer:</font> less bias and faster computation\n"
   ]
  },
  {
   "cell_type": "markdown",
   "id": "27b29119",
   "metadata": {},
   "source": [
    "- c. 5 points) What is an advantage of k-fold CV over LOOCV?\n",
    "\n"
   ]
  },
  {
   "cell_type": "markdown",
   "id": "64a12e49",
   "metadata": {},
   "source": [
    "<font color='blue'>Your answer:</font> less variance\n"
   ]
  },
  {
   "cell_type": "code",
   "execution_count": null,
   "id": "98300820",
   "metadata": {},
   "outputs": [],
   "source": []
  }
 ],
 "metadata": {
  "kernelspec": {
   "display_name": "Python 3",
   "language": "python",
   "name": "python3"
  },
  "language_info": {
   "codemirror_mode": {
    "name": "ipython",
    "version": 3
   },
   "file_extension": ".py",
   "mimetype": "text/x-python",
   "name": "python",
   "nbconvert_exporter": "python",
   "pygments_lexer": "ipython3",
   "version": "3.8.8"
  }
 },
 "nbformat": 4,
 "nbformat_minor": 5
}
